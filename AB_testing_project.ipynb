{
 "cells": [
  {
   "cell_type": "code",
   "execution_count": 14,
   "metadata": {
    "collapsed": true
   },
   "outputs": [],
   "source": [
    "import pandas as pd\n",
    "import numpy as np\n",
    "from scipy.stats import norm \n",
    "import math\n",
    "\n",
    "pd.set_option('display.float_format', '{:.4f}'.format)"
   ]
  },
  {
   "cell_type": "markdown",
   "metadata": {},
   "source": [
    "### Step 1: Choosing Invariant Metrics"
   ]
  },
  {
   "cell_type": "markdown",
   "metadata": {},
   "source": [
    "Since the proposed change only affects user behavior after they have clicked the \"Start Free Trial\" button, any metric that measures what happens before the click must be invariant. Therefore the invariance metrics are **Number of Cookies, Number of Clicks, Click-Through-Probability**."
   ]
  },
  {
   "cell_type": "markdown",
   "metadata": {},
   "source": [
    "### Step 2: Choosing Evaluation Metrics"
   ]
  },
  {
   "cell_type": "markdown",
   "metadata": {},
   "source": [
    "Since the goal of the proposed change is to reduce the number of frustrated students, we should hopefully see both **Retention & Net Conversion** go up. we might also want to track **Gross Conversion** just to make sure the proposed change doesn't end up turning a significant number of students away."
   ]
  },
  {
   "cell_type": "markdown",
   "metadata": {},
   "source": [
    "### Step 3: Calculate Standard Deviation of Evaluation Metrics w/ 5000 Pageviews"
   ]
  },
  {
   "cell_type": "markdown",
   "metadata": {},
   "source": [
    "For this step, an analytice estimate of the s.d. using 40000 pageviews is provided. The values are shown below:"
   ]
  },
  {
   "cell_type": "code",
   "execution_count": 61,
   "metadata": {},
   "outputs": [
    {
     "data": {
      "text/html": [
       "<div>\n",
       "<style>\n",
       "    .dataframe thead tr:only-child th {\n",
       "        text-align: right;\n",
       "    }\n",
       "\n",
       "    .dataframe thead th {\n",
       "        text-align: left;\n",
       "    }\n",
       "\n",
       "    .dataframe tbody tr th {\n",
       "        vertical-align: top;\n",
       "    }\n",
       "</style>\n",
       "<table border=\"1\" class=\"dataframe\">\n",
       "  <thead>\n",
       "    <tr style=\"text-align: right;\">\n",
       "      <th></th>\n",
       "      <th>metric</th>\n",
       "      <th>value</th>\n",
       "    </tr>\n",
       "  </thead>\n",
       "  <tbody>\n",
       "    <tr>\n",
       "      <th>0</th>\n",
       "      <td>Unique cookies to view course overview page pe...</td>\n",
       "      <td>40000.00</td>\n",
       "    </tr>\n",
       "    <tr>\n",
       "      <th>1</th>\n",
       "      <td>Unique cookies to click \"Start free trial\" per...</td>\n",
       "      <td>3200.00</td>\n",
       "    </tr>\n",
       "    <tr>\n",
       "      <th>2</th>\n",
       "      <td>Enrollments per day:</td>\n",
       "      <td>660.00</td>\n",
       "    </tr>\n",
       "    <tr>\n",
       "      <th>3</th>\n",
       "      <td>Click-through-probability on \"Start free trial\":</td>\n",
       "      <td>0.08</td>\n",
       "    </tr>\n",
       "    <tr>\n",
       "      <th>4</th>\n",
       "      <td>Probability of enrolling, given click:</td>\n",
       "      <td>0.21</td>\n",
       "    </tr>\n",
       "    <tr>\n",
       "      <th>5</th>\n",
       "      <td>Probability of payment, given enroll:</td>\n",
       "      <td>0.53</td>\n",
       "    </tr>\n",
       "    <tr>\n",
       "      <th>6</th>\n",
       "      <td>Probability of payment, given click</td>\n",
       "      <td>0.11</td>\n",
       "    </tr>\n",
       "  </tbody>\n",
       "</table>\n",
       "</div>"
      ],
      "text/plain": [
       "                                              metric    value\n",
       "0  Unique cookies to view course overview page pe... 40000.00\n",
       "1  Unique cookies to click \"Start free trial\" per...  3200.00\n",
       "2                               Enrollments per day:   660.00\n",
       "3   Click-through-probability on \"Start free trial\":     0.08\n",
       "4             Probability of enrolling, given click:     0.21\n",
       "5              Probability of payment, given enroll:     0.53\n",
       "6                Probability of payment, given click     0.11"
      ]
     },
     "execution_count": 61,
     "metadata": {},
     "output_type": "execute_result"
    }
   ],
   "source": [
    "pd.read_csv('Data/Final Project Baseline Values.csv', header=None, names = ['metric','value'])"
   ]
  },
  {
   "cell_type": "markdown",
   "metadata": {},
   "source": [
    "Because the s.d. of a given metric is roughly proportional to the inverse of the square root of the sample size, we can use this to estimate the s.d. of the same metrics with a sample size of 5000 pageviews."
   ]
  },
  {
   "cell_type": "code",
   "execution_count": 31,
   "metadata": {},
   "outputs": [
    {
     "data": {
      "text/html": [
       "<div>\n",
       "<style>\n",
       "    .dataframe thead tr:only-child th {\n",
       "        text-align: right;\n",
       "    }\n",
       "\n",
       "    .dataframe thead th {\n",
       "        text-align: left;\n",
       "    }\n",
       "\n",
       "    .dataframe tbody tr th {\n",
       "        vertical-align: top;\n",
       "    }\n",
       "</style>\n",
       "<table border=\"1\" class=\"dataframe\">\n",
       "  <thead>\n",
       "    <tr style=\"text-align: right;\">\n",
       "      <th></th>\n",
       "      <th>Metric</th>\n",
       "      <th>SD</th>\n",
       "    </tr>\n",
       "  </thead>\n",
       "  <tbody>\n",
       "    <tr>\n",
       "      <th>0</th>\n",
       "      <td>Retention</td>\n",
       "      <td>0.0549</td>\n",
       "    </tr>\n",
       "    <tr>\n",
       "      <th>1</th>\n",
       "      <td>Net Conversion</td>\n",
       "      <td>0.0156</td>\n",
       "    </tr>\n",
       "    <tr>\n",
       "      <th>2</th>\n",
       "      <td>Gross Conversion</td>\n",
       "      <td>0.0202</td>\n",
       "    </tr>\n",
       "  </tbody>\n",
       "</table>\n",
       "</div>"
      ],
      "text/plain": [
       "             Metric      SD\n",
       "0         Retention  0.0549\n",
       "1    Net Conversion  0.0156\n",
       "2  Gross Conversion  0.0202"
      ]
     },
     "execution_count": 31,
     "metadata": {},
     "output_type": "execute_result"
    }
   ],
   "source": [
    "pd.DataFrame({'Metric': ['Retention', 'Net Conversion', 'Gross Conversion'],\n",
    "              'SD': [round(((.53*.47/660) ** .5) / ((5000/40000) ** .5), 4),\n",
    "                     round(((.109*.891/3200) ** .5) / ((5000/40000) ** .5), 4),\n",
    "                     round(((.206*.794/3200) ** .5) / ((5000/40000) ** .5), 4)]\n",
    "             })"
   ]
  },
  {
   "cell_type": "markdown",
   "metadata": {},
   "source": [
    "### Step 4: Calculate Pageviews Needed for Each Evaluation Metric"
   ]
  },
  {
   "cell_type": "markdown",
   "metadata": {},
   "source": [
    "The following function calculates the number of sample units needed to test for the given effect size, and then multiples that number by a pageview multipler to get the number of pageviews needed. For instance, we know based on historical data that out of 40000 pageviews we expect about 660 enrollments, so the pageview multipler for Retention would be 40000/660."
   ]
  },
  {
   "cell_type": "code",
   "execution_count": 59,
   "metadata": {
    "collapsed": true
   },
   "outputs": [],
   "source": [
    "def get_sample_size(bcr, d_min, pageview_multiplier, alpha=0.05, beta=0.8):\n",
    "    \"\"\"\n",
    "    Returns the smallest sample size needed for both control and experiment\n",
    "    \n",
    "    Inputs:\n",
    "    bcr: the baseline conversion rate\n",
    "    d_min: minimum detectable effect\n",
    "    pagview_multiplier: # of pageviews per unit of analysis\n",
    "    alpha: desired alpha level\n",
    "    beta: desired beta level \n",
    "    \n",
    "    Returns:\n",
    "    min_n: minimum sample size\n",
    "    \"\"\"\n",
    "\n",
    "    Z_beta = norm(0, 1).ppf(beta)\n",
    "    Z_alpha = norm(0, 1).ppf(1-alpha/2)\n",
    "    prob_pooled = (bcr + bcr + d_min) / 2\n",
    "    min_n = (2 * prob_pooled * (1 - prob_pooled) * (Z_beta + Z_alpha)**2 / d_min**2) * pageview_multiplier * 2\n",
    "\n",
    "    return(int(min_n))"
   ]
  },
  {
   "cell_type": "code",
   "execution_count": 60,
   "metadata": {},
   "outputs": [
    {
     "data": {
      "text/html": [
       "<div>\n",
       "<style>\n",
       "    .dataframe thead tr:only-child th {\n",
       "        text-align: right;\n",
       "    }\n",
       "\n",
       "    .dataframe thead th {\n",
       "        text-align: left;\n",
       "    }\n",
       "\n",
       "    .dataframe tbody tr th {\n",
       "        vertical-align: top;\n",
       "    }\n",
       "</style>\n",
       "<table border=\"1\" class=\"dataframe\">\n",
       "  <thead>\n",
       "    <tr style=\"text-align: right;\">\n",
       "      <th></th>\n",
       "      <th>Metric</th>\n",
       "      <th>Pageviews Needed</th>\n",
       "    </tr>\n",
       "  </thead>\n",
       "  <tbody>\n",
       "    <tr>\n",
       "      <th>0</th>\n",
       "      <td>Retention</td>\n",
       "      <td>4733588</td>\n",
       "    </tr>\n",
       "    <tr>\n",
       "      <th>1</th>\n",
       "      <td>Net Conversion</td>\n",
       "      <td>703335</td>\n",
       "    </tr>\n",
       "    <tr>\n",
       "      <th>2</th>\n",
       "      <td>Gross Conversion</td>\n",
       "      <td>653336</td>\n",
       "    </tr>\n",
       "  </tbody>\n",
       "</table>\n",
       "</div>"
      ],
      "text/plain": [
       "             Metric  Pageviews Needed\n",
       "0         Retention           4733588\n",
       "1    Net Conversion            703335\n",
       "2  Gross Conversion            653336"
      ]
     },
     "execution_count": 60,
     "metadata": {},
     "output_type": "execute_result"
    }
   ],
   "source": [
    "pd.DataFrame({'Metric': ['Retention', 'Net Conversion', 'Gross Conversion'],\n",
    "              'Pageviews Needed': [get_sample_size(.53, .01, 40000/660), \n",
    "                                   get_sample_size(.11, 0.0075, 40000/3200),\n",
    "                                   get_sample_size(.206, .01, 40000/3200)]\n",
    "             })"
   ]
  },
  {
   "cell_type": "markdown",
   "metadata": {},
   "source": [
    "### Step 5: Choose Duration and Exposure"
   ]
  },
  {
   "cell_type": "markdown",
   "metadata": {},
   "source": [
    "Given that the website experiences an average traffic of about 40,000 pageviews per day, to have a big enough sample for Retention we'd need to divert 100% of the traffic for 119 days! That's obviously unrealistic. So we should drop Retention and just focus on the other 2 metrics, which require that we divert **100% of the traffic for 18 days**."
   ]
  },
  {
   "cell_type": "markdown",
   "metadata": {},
   "source": [
    "### Step 6: Sanity Check"
   ]
  },
  {
   "cell_type": "markdown",
   "metadata": {
    "collapsed": true
   },
   "source": [
    "Before looking at the final evaluation metric result, let's take a look at the invariant metrics and make sure they truly are invariant across control and experiment. For # of cookies and # of clicks on \"Start Free Trial\", we'll test if the counts are evenly split between control and experiment. For click-through-probability, we'll test if the difference between control and experiment is equal to 0."
   ]
  },
  {
   "cell_type": "code",
   "execution_count": 4,
   "metadata": {},
   "outputs": [],
   "source": [
    "result_ctrl = pd.read_csv('Data/result_control.csv')\n",
    "result_exp = pd.read_csv('Data/result_experiment.csv')"
   ]
  },
  {
   "cell_type": "code",
   "execution_count": 27,
   "metadata": {},
   "outputs": [
    {
     "data": {
      "text/html": [
       "<div>\n",
       "<style>\n",
       "    .dataframe thead tr:only-child th {\n",
       "        text-align: right;\n",
       "    }\n",
       "\n",
       "    .dataframe thead th {\n",
       "        text-align: left;\n",
       "    }\n",
       "\n",
       "    .dataframe tbody tr th {\n",
       "        vertical-align: top;\n",
       "    }\n",
       "</style>\n",
       "<table border=\"1\" class=\"dataframe\">\n",
       "  <thead>\n",
       "    <tr style=\"text-align: right;\">\n",
       "      <th></th>\n",
       "      <th>Date</th>\n",
       "      <th>Pageviews</th>\n",
       "      <th>Clicks</th>\n",
       "      <th>Enrollments</th>\n",
       "      <th>Payments</th>\n",
       "    </tr>\n",
       "  </thead>\n",
       "  <tbody>\n",
       "    <tr>\n",
       "      <th>0</th>\n",
       "      <td>Sat, Oct 11</td>\n",
       "      <td>7723.0000</td>\n",
       "      <td>687.0000</td>\n",
       "      <td>134.0000</td>\n",
       "      <td>70.0000</td>\n",
       "    </tr>\n",
       "    <tr>\n",
       "      <th>1</th>\n",
       "      <td>Sun, Oct 12</td>\n",
       "      <td>9102.0000</td>\n",
       "      <td>779.0000</td>\n",
       "      <td>147.0000</td>\n",
       "      <td>70.0000</td>\n",
       "    </tr>\n",
       "    <tr>\n",
       "      <th>2</th>\n",
       "      <td>Mon, Oct 13</td>\n",
       "      <td>10511.0000</td>\n",
       "      <td>909.0000</td>\n",
       "      <td>167.0000</td>\n",
       "      <td>95.0000</td>\n",
       "    </tr>\n",
       "    <tr>\n",
       "      <th>3</th>\n",
       "      <td>Tue, Oct 14</td>\n",
       "      <td>9871.0000</td>\n",
       "      <td>836.0000</td>\n",
       "      <td>156.0000</td>\n",
       "      <td>105.0000</td>\n",
       "    </tr>\n",
       "    <tr>\n",
       "      <th>4</th>\n",
       "      <td>Wed, Oct 15</td>\n",
       "      <td>10014.0000</td>\n",
       "      <td>837.0000</td>\n",
       "      <td>163.0000</td>\n",
       "      <td>64.0000</td>\n",
       "    </tr>\n",
       "  </tbody>\n",
       "</table>\n",
       "</div>"
      ],
      "text/plain": [
       "          Date  Pageviews   Clicks  Enrollments  Payments\n",
       "0  Sat, Oct 11  7723.0000 687.0000     134.0000   70.0000\n",
       "1  Sun, Oct 12  9102.0000 779.0000     147.0000   70.0000\n",
       "2  Mon, Oct 13 10511.0000 909.0000     167.0000   95.0000\n",
       "3  Tue, Oct 14  9871.0000 836.0000     156.0000  105.0000\n",
       "4  Wed, Oct 15 10014.0000 837.0000     163.0000   64.0000"
      ]
     },
     "execution_count": 27,
     "metadata": {},
     "output_type": "execute_result"
    }
   ],
   "source": [
    "result_ctrl.head()"
   ]
  },
  {
   "cell_type": "code",
   "execution_count": 6,
   "metadata": {},
   "outputs": [
    {
     "data": {
      "text/html": [
       "<div>\n",
       "<style>\n",
       "    .dataframe thead tr:only-child th {\n",
       "        text-align: right;\n",
       "    }\n",
       "\n",
       "    .dataframe thead th {\n",
       "        text-align: left;\n",
       "    }\n",
       "\n",
       "    .dataframe tbody tr th {\n",
       "        vertical-align: top;\n",
       "    }\n",
       "</style>\n",
       "<table border=\"1\" class=\"dataframe\">\n",
       "  <thead>\n",
       "    <tr style=\"text-align: right;\">\n",
       "      <th></th>\n",
       "      <th>Date</th>\n",
       "      <th>Pageviews</th>\n",
       "      <th>Clicks</th>\n",
       "      <th>Enrollments</th>\n",
       "      <th>Payments</th>\n",
       "    </tr>\n",
       "  </thead>\n",
       "  <tbody>\n",
       "    <tr>\n",
       "      <th>0</th>\n",
       "      <td>Sat, Oct 11</td>\n",
       "      <td>7716</td>\n",
       "      <td>686</td>\n",
       "      <td>105.00</td>\n",
       "      <td>34.00</td>\n",
       "    </tr>\n",
       "    <tr>\n",
       "      <th>1</th>\n",
       "      <td>Sun, Oct 12</td>\n",
       "      <td>9288</td>\n",
       "      <td>785</td>\n",
       "      <td>116.00</td>\n",
       "      <td>91.00</td>\n",
       "    </tr>\n",
       "    <tr>\n",
       "      <th>2</th>\n",
       "      <td>Mon, Oct 13</td>\n",
       "      <td>10480</td>\n",
       "      <td>884</td>\n",
       "      <td>145.00</td>\n",
       "      <td>79.00</td>\n",
       "    </tr>\n",
       "    <tr>\n",
       "      <th>3</th>\n",
       "      <td>Tue, Oct 14</td>\n",
       "      <td>9867</td>\n",
       "      <td>827</td>\n",
       "      <td>138.00</td>\n",
       "      <td>92.00</td>\n",
       "    </tr>\n",
       "    <tr>\n",
       "      <th>4</th>\n",
       "      <td>Wed, Oct 15</td>\n",
       "      <td>9793</td>\n",
       "      <td>832</td>\n",
       "      <td>140.00</td>\n",
       "      <td>94.00</td>\n",
       "    </tr>\n",
       "  </tbody>\n",
       "</table>\n",
       "</div>"
      ],
      "text/plain": [
       "          Date  Pageviews  Clicks  Enrollments  Payments\n",
       "0  Sat, Oct 11       7716     686       105.00     34.00\n",
       "1  Sun, Oct 12       9288     785       116.00     91.00\n",
       "2  Mon, Oct 13      10480     884       145.00     79.00\n",
       "3  Tue, Oct 14       9867     827       138.00     92.00\n",
       "4  Wed, Oct 15       9793     832       140.00     94.00"
      ]
     },
     "execution_count": 6,
     "metadata": {},
     "output_type": "execute_result"
    }
   ],
   "source": [
    "result_exp.head()"
   ]
  },
  {
   "cell_type": "markdown",
   "metadata": {},
   "source": [
    "Note: There are no Enrollment or Payment values after Nov 2 because the students who clicked on \"Start Free Trial\" after Nov 2 have not yet hit the 14-day trial end date."
   ]
  },
  {
   "cell_type": "code",
   "execution_count": 19,
   "metadata": {},
   "outputs": [
    {
     "data": {
      "text/html": [
       "<div>\n",
       "<style>\n",
       "    .dataframe thead tr:only-child th {\n",
       "        text-align: right;\n",
       "    }\n",
       "\n",
       "    .dataframe thead th {\n",
       "        text-align: left;\n",
       "    }\n",
       "\n",
       "    .dataframe tbody tr th {\n",
       "        vertical-align: top;\n",
       "    }\n",
       "</style>\n",
       "<table border=\"1\" class=\"dataframe\">\n",
       "  <thead>\n",
       "    <tr style=\"text-align: right;\">\n",
       "      <th></th>\n",
       "      <th>Metric</th>\n",
       "      <th>Lower Bound</th>\n",
       "      <th>Upper Bound</th>\n",
       "      <th>Observed Value</th>\n",
       "    </tr>\n",
       "  </thead>\n",
       "  <tbody>\n",
       "    <tr>\n",
       "      <th>0</th>\n",
       "      <td># of Cookies</td>\n",
       "      <td>0.4988</td>\n",
       "      <td>0.5012</td>\n",
       "      <td>0.5006</td>\n",
       "    </tr>\n",
       "    <tr>\n",
       "      <th>1</th>\n",
       "      <td># of Clicks</td>\n",
       "      <td>0.4959</td>\n",
       "      <td>0.5041</td>\n",
       "      <td>0.5005</td>\n",
       "    </tr>\n",
       "    <tr>\n",
       "      <th>2</th>\n",
       "      <td>Click-through-probability</td>\n",
       "      <td>-0.0013</td>\n",
       "      <td>0.0013</td>\n",
       "      <td>0.0000</td>\n",
       "    </tr>\n",
       "  </tbody>\n",
       "</table>\n",
       "</div>"
      ],
      "text/plain": [
       "                      Metric  Lower Bound  Upper Bound  Observed Value\n",
       "0               # of Cookies       0.4988       0.5012          0.5006\n",
       "1                # of Clicks       0.4959       0.5041          0.5005\n",
       "2  Click-through-probability      -0.0013       0.0013          0.0000"
      ]
     },
     "execution_count": 19,
     "metadata": {},
     "output_type": "execute_result"
    }
   ],
   "source": [
    "pageviews_ctrl = result_ctrl['Pageviews'].sum()\n",
    "pageviews_exp = result_exp['Pageviews'].sum()\n",
    "pageviews_both = pageviews_ctrl + pageviews_exp\n",
    "clicks_ctrl = result_ctrl['Clicks'].sum()\n",
    "clicks_exp = result_exp['Clicks'].sum()\n",
    "clicks_both = clicks_ctrl + clicks_exp\n",
    "\n",
    "# Number of cookies\n",
    "p_cookies = pageviews_ctrl / pageviews_both\n",
    "moe_cookies = 1.96 * ((p_cookies*(1-p_cookies)/(pageviews_both)) ** .5)\n",
    "\n",
    "# Number of clicks\n",
    "p_clicks = clicks_ctrl / clicks_both\n",
    "moe_clicks = 1.96 * ((p_clicks*(1-p_clicks)/(clicks_both)) ** .5)\n",
    "\n",
    "# Click-through-probability\n",
    "prob_ctr = clicks_ctrl/pageviews_ctrl\n",
    "prob_test = clicks_exp/pageviews_exp\n",
    "prob_pooled = clicks_both / pageviews_both\n",
    "moe_ctp = 1.96 * np.sqrt(prob_pooled * (1 - prob_pooled) * (1/pageviews_ctrl + 1/pageviews_exp))\n",
    "\n",
    "pd.DataFrame({'Metric': ['# of Cookies', '# of Clicks', 'Click-through-probability'],\n",
    "              'Lower Bound': [.5 - moe_cookies, .5 - moe_clicks, -moe_ctp],\n",
    "              'Upper Bound': [.5 + moe_cookies, .5 + moe_clicks, moe_ctp],\n",
    "              'Observed Value': [pageviews_ctrl / pageviews_both, clicks_ctrl / clicks_both, 0]\n",
    "             })[['Metric', 'Lower Bound', 'Upper Bound', 'Observed Value']]"
   ]
  },
  {
   "cell_type": "markdown",
   "metadata": {},
   "source": [
    "Since the observed value falls into the CI in all 3 cases, all the invariant metrics pass the sanity check."
   ]
  },
  {
   "cell_type": "markdown",
   "metadata": {},
   "source": [
    "### Step 7: Effect Size Tests"
   ]
  },
  {
   "cell_type": "markdown",
   "metadata": {},
   "source": [
    "For Gross Conversion and Net Conversion, we'll construct a 95% CI around the difference between control and experiment and check if they contain 0."
   ]
  },
  {
   "cell_type": "code",
   "execution_count": 24,
   "metadata": {},
   "outputs": [
    {
     "data": {
      "text/html": [
       "<div>\n",
       "<style>\n",
       "    .dataframe thead tr:only-child th {\n",
       "        text-align: right;\n",
       "    }\n",
       "\n",
       "    .dataframe thead th {\n",
       "        text-align: left;\n",
       "    }\n",
       "\n",
       "    .dataframe tbody tr th {\n",
       "        vertical-align: top;\n",
       "    }\n",
       "</style>\n",
       "<table border=\"1\" class=\"dataframe\">\n",
       "  <thead>\n",
       "    <tr style=\"text-align: right;\">\n",
       "      <th></th>\n",
       "      <th>Metric</th>\n",
       "      <th>Lower Bound</th>\n",
       "      <th>Upper Bound</th>\n",
       "    </tr>\n",
       "  </thead>\n",
       "  <tbody>\n",
       "    <tr>\n",
       "      <th>0</th>\n",
       "      <td>Gross Conversion</td>\n",
       "      <td>0.0120</td>\n",
       "      <td>0.0291</td>\n",
       "    </tr>\n",
       "    <tr>\n",
       "      <th>1</th>\n",
       "      <td>Net Conversion</td>\n",
       "      <td>-0.0019</td>\n",
       "      <td>0.0116</td>\n",
       "    </tr>\n",
       "  </tbody>\n",
       "</table>\n",
       "</div>"
      ],
      "text/plain": [
       "             Metric  Lower Bound  Upper Bound\n",
       "0  Gross Conversion       0.0120       0.0291\n",
       "1    Net Conversion      -0.0019       0.0116"
      ]
     },
     "execution_count": 24,
     "metadata": {},
     "output_type": "execute_result"
    }
   ],
   "source": [
    "# Drop students that haven't hit the 14 day mark yet\n",
    "result_ctrl = result_ctrl.dropna()\n",
    "result_exp = result_exp.dropna()\n",
    "\n",
    "pageviews_both = pageviews_ctrl + pageviews_exp\n",
    "clicks_ctrl = result_ctrl['Clicks'].sum()\n",
    "clicks_exp = result_exp['Clicks'].sum()\n",
    "nrolls_ctrl = result_ctrl['Enrollments'].sum()\n",
    "enrolls_exp = result_exp['Enrollments'].sum()\n",
    "payments_ctrl = result_ctrl['Payments'].sum()\n",
    "payments_exp = result_exp['Payments'].sum()\n",
    "\n",
    "# Gross Conversion\n",
    "gc_ctrl = enrolls_ctrl/clicks_ctrl\n",
    "gc_exp = enrolls_exp/clicks_exp\n",
    "gc_pooled = (enrolls_ctrl + enrolls_exp) / (clicks_ctrl + clicks_exp)\n",
    "gc_diff = gc_ctrl - gc_exp\n",
    "moe_gc = 1.96 * np.sqrt(gc_pooled * (1 - gc_pooled) * (1/clicks_ctrl + 1/clicks_exp))\n",
    "\n",
    "# Net Conversion\n",
    "nc_ctrl = payments_ctrl/clicks_ctrl\n",
    "nc_exp = payments_exp/clicks_exp\n",
    "nc_pooled = (payments_ctrl + payments_exp) / (clicks_ctrl + clicks_exp)\n",
    "nc_diff = nc_ctrl - nc_exp\n",
    "moe_nc = 1.96 * np.sqrt(nc_pooled * (1 - nc_pooled) * (1/clicks_ctrl + 1/clicks_exp))\n",
    "\n",
    "pd.DataFrame({'Metric': ['Gross Conversion', 'Net Conversion'],\n",
    "              'Lower Bound': [gc_diff - moe_gc, nc_diff - moe_nc],\n",
    "              'Upper Bound': [gc_diff + moe_gc, nc_diff + moe_nc],\n",
    "             })[['Metric', 'Lower Bound', 'Upper Bound']]"
   ]
  },
  {
   "cell_type": "markdown",
   "metadata": {},
   "source": [
    "### Step 8: Make Recommendations"
   ]
  },
  {
   "cell_type": "markdown",
   "metadata": {},
   "source": [
    "The Gross Conversion difference is significant, meaning that students are less likely to enroll in the free trial after the change. The Net Conversion difference turns out to be insignificant, so the result seems to be suggest the total number of students that end up with a payment remains the same after the proposed change.\n",
    "\n",
    "However, since the total # of pageviews with enrollment & payment info is 423525, which is only about half of what's needed for the given minimum effect size, I recommend waiting until all the info is collected before making a decision. If we get a similar result even with a sufficient sample size, then we should not roll out the proposed change, since it doesn't seem to increase Net Conversion as we hoped it would."
   ]
  }
 ],
 "metadata": {
  "kernelspec": {
   "display_name": "Python 3",
   "language": "python",
   "name": "python3"
  },
  "language_info": {
   "codemirror_mode": {
    "name": "ipython",
    "version": 3
   },
   "file_extension": ".py",
   "mimetype": "text/x-python",
   "name": "python",
   "nbconvert_exporter": "python",
   "pygments_lexer": "ipython3",
   "version": "3.6.3"
  }
 },
 "nbformat": 4,
 "nbformat_minor": 2
}
